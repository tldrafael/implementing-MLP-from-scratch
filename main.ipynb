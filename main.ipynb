{
 "cells": [
  {
   "cell_type": "code",
   "execution_count": 1,
   "metadata": {
    "collapsed": false
   },
   "outputs": [],
   "source": [
    "from IPython.core.display import display, HTML\n",
    "#display(HTML(\"<style>.container { width:65% !important; }</style>\"))\n",
    "\n",
    "import numpy as np\n",
    "import matplotlib.pyplot as plt\n",
    "from sklearn.preprocessing import MinMaxScaler\n",
    "import neural_net as nn"
   ]
  },
  {
   "cell_type": "code",
   "execution_count": 2,
   "metadata": {
    "collapsed": false
   },
   "outputs": [],
   "source": [
    "# Select an objective task\n",
    "#obj = 'logistic-reg'\n",
    "obj = 'linear-reg'\n",
    "\n",
    "# Create labels\n",
    "def ground_prediction(x1_i, x2_i):\n",
    "    if obj == 'logistic-reg':\n",
    "        return np.bitwise_xor(x1_i, x2_i)\n",
    "    elif obj == 'linear-reg':\n",
    "        return x1_i + x2_i\n",
    "    \n",
    "    \n",
    "# Create samples, two-dimensional input    \n",
    "n_samples = 1000\n",
    "X1 = np.random.choice(np.random.randint(0, 10000, 10000), n_samples)\n",
    "X2 = np.random.choice(np.random.randint(10000, 20000, 10000), n_samples)\n",
    "X1 = np.random.choice(np.random.randint(0, 2, 10000), n_samples)\n",
    "X2 = np.random.choice(np.random.randint(0, 2, 10000), n_samples)\n",
    "X = np.asarray([X1, X2]).transpose()\n",
    "\n",
    "\n",
    "# Here if needed you can normalize the data\n",
    "# scaler = MinMaxScaler(feature_range=(-1, 1))\n",
    "# scaler.fit(X)\n",
    "# X_norm = scaler.transform(X)\n",
    "X_norm = X\n",
    "\n",
    "# Get the labels for each sample\n",
    "y = list()\n",
    "for i in np.arange(X.shape[0]):\n",
    "    y_i = ground_prediction(X[i,0], X[i,1])\n",
    "    y.append(y_i)\n",
    "    \n",
    "y = np.asarray(y) \n",
    "\n",
    "# y = y.reshape(-1,1)\n",
    "# scaler_y = MinMaxScaler(feature_range=(-1, 1))\n",
    "# scaler_y.fit(y)\n",
    "# y_norm = scaler_y.transform(y)\n",
    "y_norm = y"
   ]
  },
  {
   "cell_type": "code",
   "execution_count": 6,
   "metadata": {
    "collapsed": false,
    "scrolled": false
   },
   "outputs": [
    {
     "name": "stdout",
     "output_type": "stream",
     "text": [
      "Gradient Checking is Matching!\n",
      "Gradient Checking is Matching!\n",
      "Gradient Checking is Matching!\n",
      "Gradient Checking is Matching!\n",
      "Gradient Checking is Matching!\n"
     ]
    }
   ],
   "source": [
    "nn_test = nn.NeuralNet([2, 2, 3, 2, 1], batch_size=32, objective=obj)\n",
    "nn_test.train(X=X_norm, Y=y_norm, r=9e-2, iterations=5000, shuffle=False, check_grad=True)"
   ]
  },
  {
   "cell_type": "code",
   "execution_count": 7,
   "metadata": {
    "collapsed": true
   },
   "outputs": [],
   "source": [
    "y_fitted = nn_test.train_fitted()"
   ]
  },
  {
   "cell_type": "code",
   "execution_count": 8,
   "metadata": {
    "collapsed": false
   },
   "outputs": [
    {
     "data": {
      "image/png": "[encoded data removed]",
      "text/plain": [
       "<matplotlib.figure.Figure at 0x7f0b006db650>"
      ]
     },
     "metadata": {},
     "output_type": "display_data"
    }
   ],
   "source": [
    "plt.plot(nn_test.obj_history)\n",
    "plt.show()"
   ]
  }
 ],
 "metadata": {
  "kernelspec": {
   "display_name": "Python 2",
   "language": "python",
   "name": "python2"
  },
  "language_info": {
   "codemirror_mode": {
    "name": "ipython",
    "version": 2
   },
   "file_extension": ".py",
   "mimetype": "text/x-python",
   "name": "python",
   "nbconvert_exporter": "python",
   "pygments_lexer": "ipython2",
   "version": "2.7.12"
  }
 },
 "nbformat": 4,
 "nbformat_minor": 2
}
